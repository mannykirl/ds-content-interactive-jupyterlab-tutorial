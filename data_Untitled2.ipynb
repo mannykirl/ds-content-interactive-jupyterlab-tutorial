{
  "metadata": {
    "language_info": {
      "codemirror_mode": {
        "name": "python",
        "version": 3
      },
      "file_extension": ".py",
      "mimetype": "text/x-python",
      "name": "python",
      "nbconvert_exporter": "python",
      "pygments_lexer": "ipython3",
      "version": "3.8"
    },
    "kernelspec": {
      "name": "python",
      "display_name": "Pyolite",
      "language": "python"
    },
    "colab": {
      "name": "data_Untitled2.ipynb",
      "provenance": [],
      "include_colab_link": true
    }
  },
  "nbformat_minor": 0,
  "nbformat": 4,
  "cells": [
    {
      "cell_type": "markdown",
      "metadata": {
        "id": "view-in-github",
        "colab_type": "text"
      },
      "source": [
        "<a href=\"https://colab.research.google.com/github/mannykirl/ds-content-interactive-jupyterlab-tutorial/blob/master/data_Untitled2.ipynb\" target=\"_parent\"><img src=\"https://colab.research.google.com/assets/colab-badge.svg\" alt=\"Open In Colab\"/></a>"
      ]
    },
    {
      "cell_type": "code",
      "source": [
        "print(\"go\")"
      ],
      "metadata": {
        "trusted": true,
        "id": "ZkOyCTeCiTXB",
        "outputId": "efcacae7-9728-44ff-9603-8afc89345da7"
      },
      "execution_count": null,
      "outputs": [
        {
          "name": "stdout",
          "text": "go\n",
          "output_type": "stream"
        }
      ]
    },
    {
      "cell_type": "code",
      "source": [
        "1 + 1"
      ],
      "metadata": {
        "trusted": true,
        "id": "XmkIYss4iTXF",
        "outputId": "c0ca0ee9-a57f-4c1e-b6cd-35c4b176d527"
      },
      "execution_count": null,
      "outputs": [
        {
          "execution_count": 2,
          "output_type": "execute_result",
          "data": {
            "text/plain": "2"
          },
          "metadata": {}
        }
      ]
    },
    {
      "cell_type": "code",
      "source": [
        "import random"
      ],
      "metadata": {
        "trusted": true,
        "id": "lDGEtjioiTXG"
      },
      "execution_count": null,
      "outputs": []
    },
    {
      "cell_type": "code",
      "source": [
        "random.randint(2, 100)"
      ],
      "metadata": {
        "trusted": true,
        "id": "2gwRcxgbiTXG",
        "outputId": "90324b09-e8ff-4888-c3a2-74f8a96ea11c"
      },
      "execution_count": null,
      "outputs": [
        {
          "execution_count": 4,
          "output_type": "execute_result",
          "data": {
            "text/plain": "19"
          },
          "metadata": {}
        }
      ]
    },
    {
      "cell_type": "code",
      "source": [
        ""
      ],
      "metadata": {
        "id": "uBz85K3EiTXH"
      },
      "execution_count": null,
      "outputs": []
    }
  ]
}